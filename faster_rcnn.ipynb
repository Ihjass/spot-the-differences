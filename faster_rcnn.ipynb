{
  "nbformat": 4,
  "nbformat_minor": 0,
  "metadata": {
    "colab": {
      "name": "faster-rcnn",
      "provenance": [],
      "collapsed_sections": []
    },
    "kernelspec": {
      "name": "python3",
      "display_name": "Python 3"
    }
  },
  "cells": [
    {
      "cell_type": "markdown",
      "metadata": {
        "id": "jL-HqQwO9urx",
        "colab_type": "text"
      },
      "source": [
        "This code snippet is to depict the implementation of the keras method - of faster RCNN\n",
        "\n"
      ]
    },
    {
      "cell_type": "code",
      "metadata": {
        "id": "iYtdFeflz1SZ",
        "colab_type": "code",
        "colab": {
          "base_uri": "https://localhost:8080/",
          "height": 35
        },
        "outputId": "d8bd16c9-da3e-4366-ac52-839e981fccf8"
      },
      "source": [
        "# os module for file, cv2 is opencv - used for images in python\n",
        "import os, cv2\n",
        "# tensorflow for RCNN\n",
        "import tensorflow as tf\n",
        "#keras layers is for architecture and models is for forwarding through the architecture\n",
        "from keras.models import Sequential\n",
        "from keras.layers import Dense, Conv2D, MaxPooling2D, Dropout\n",
        "from keras.layers import Flatten, Activation\n",
        "from keras import Model, Input\n",
        "#sklearn train-test-split for splitting the data into train and testing\n",
        "from sklearn.model_selection import train_test_split\n",
        "from sklearn.preprocessing import StandardScaler\n",
        "import sys"
      ],
      "execution_count": null,
      "outputs": [
        {
          "output_type": "stream",
          "text": [
            "Using TensorFlow backend.\n"
          ],
          "name": "stderr"
        }
      ]
    },
    {
      "cell_type": "code",
      "metadata": {
        "id": "2sqJb7Kq6jGa",
        "colab_type": "code",
        "colab": {}
      },
      "source": [
        "# pandas for reading csvs\n",
        "import pandas as pd\n",
        "import matplotlib.pyplot as plt_curve\n",
        "import numpy as np\n",
        "from matplotlib import image"
      ],
      "execution_count": null,
      "outputs": []
    },
    {
      "cell_type": "code",
      "metadata": {
        "id": "VphkF_juB1XU",
        "colab_type": "code",
        "colab": {}
      },
      "source": [
        "# since cv2.imshow doesn't work\n",
        "from google.colab.patches import cv2_imshow"
      ],
      "execution_count": null,
      "outputs": []
    },
    {
      "cell_type": "markdown",
      "metadata": {
        "id": "h3Wh3g5rLYiT",
        "colab_type": "text"
      },
      "source": [
        "ZF net FrameWork Module"
      ]
    },
    {
      "cell_type": "code",
      "metadata": {
        "id": "XUMKRTFLFtr6",
        "colab_type": "code",
        "colab": {}
      },
      "source": [
        "def zf_module(x,y,x1,y1):\n",
        "  customArch = Sequential(name=\"spot the difference\")\n",
        "\n",
        "  # 5 layers in the convolution - for each the dimension changes - upto 256\n",
        "  customArch.add(Conv2D(16,(3,3), strides=1, padding='same'))\n",
        "  customArch.add(Conv2D(32,(3,3), strides=1, padding='same'))\n",
        "  customArch.add(Conv2D(64,(3,3), strides=1, padding='same'))\n",
        "  customArch.add(Conv2D(128,(3,3), strides=1, padding='same'))\n",
        "  customArch.add(Conv2D(256,(3,3), strides=1, padding='same'))\n",
        "  customArch.add(Dropout(0.4))\n",
        "  customArch.add(MaxPooling2D(2,2))\n",
        "\n",
        "  customArch.add(Flatten())\n",
        "  customArch.add(Dense(10, activation = \"softmax\"))\n",
        "\n",
        "  customArch.compile(optimizer = \"adam\",metrics = [\"accuracy\"])\n",
        "\n",
        "  customArch.summary()\n",
        "  return customArch"
      ],
      "execution_count": null,
      "outputs": []
    },
    {
      "cell_type": "code",
      "metadata": {
        "id": "gZKL7Dm9f9JN",
        "colab_type": "code",
        "colab": {}
      },
      "source": [
        "# read and preprocess data from the respective csvs\n",
        "def read_preprocess_data(folder):\n",
        "  train = pd.read_csv('ObjDetTrain.csv')\n",
        "  test = pd.read_csv('ObjDetTest.csv')\n",
        "  train.head()\n",
        "  print('Uinqueness')\n",
        "  train['fileName'].nunique()"
      ],
      "execution_count": null,
      "outputs": []
    },
    {
      "cell_type": "code",
      "metadata": {
        "id": "4Tobecqhjz87",
        "colab_type": "code",
        "colab": {}
      },
      "source": [
        "# from the whole data split into train and test groups\n",
        "def getSplitData():\n",
        "  X = train.iloc[:, :-1].values\n",
        "  Y = test.iloc[:, -1].values\n",
        "  x_train, x_test, y_train, y_test = train_test_split(X,Y,test_size=0.3,random_state=0)\n",
        "  return ((x_train, y_train), (x_test, y_test))"
      ],
      "execution_count": null,
      "outputs": []
    },
    {
      "cell_type": "code",
      "metadata": {
        "id": "uqnhErMtkk62",
        "colab_type": "code",
        "colab": {}
      },
      "source": [
        "# main driver - invoke the functionalities\n",
        "global folder\n",
        "folder = 'sample_data/'\n",
        "read_preprocess_data(folder)\n",
        "(train_images,train_labels),(test_images,test_labels) = getSplitData()\n"
      ],
      "execution_count": null,
      "outputs": []
    },
    {
      "cell_type": "code",
      "metadata": {
        "id": "Yk5JpNBxogNL",
        "colab_type": "code",
        "colab": {}
      },
      "source": [
        "#model is connected to the architecture\n",
        "\n",
        "model = zf_module(train_images,train_labels, test_images, test_labels)\n",
        "print(model)\n",
        "# model can be fit only if it is not None\n",
        "if model is not None:\n",
        "  print('hi')\n",
        "  model.compile(optimizer=\"adam\")\n",
        "  model.fit(train_images, train_labels, epochs=10)"
      ],
      "execution_count": null,
      "outputs": []
    },
    {
      "cell_type": "code",
      "metadata": {
        "id": "7AbGuh_yHhVM",
        "colab_type": "code",
        "colab": {}
      },
      "source": [
        "# calculate the evalutaion - ROC curve\n",
        "probability = model.predict_proba(testX)\n",
        "# consider only the positive probabilities (for ROC- only positive needed)\n",
        "pred = probability[:,1]\n",
        "FPRate, TPRate, thresh = roc_curve(testY, pred)\n",
        "# find auc- area under the curve using the ROC curve result\n",
        "auc_area = auc(FPRate, TPRate)\n",
        "\n",
        "#plot the curve\n",
        "plt.title('RoC - receiver operating characteristic')\n",
        "plt.plot(FPRate, TPRate, 'b', label = 'AUC = %0.2f' % auc_area)\n",
        "plt.plot([0, 1], [0, 1],'r--')\n",
        "plt.xlim([0, 1])\n",
        "plt.ylim([0, 1])\n",
        "plt.ylabel('True Positive Rate')\n",
        "plt.xlabel('False Positive Rate')\n",
        "plt.show()"
      ],
      "execution_count": null,
      "outputs": []
    }
  ]
}